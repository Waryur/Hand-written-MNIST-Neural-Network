{
 "cells": [
  {
   "cell_type": "code",
   "execution_count": null,
   "metadata": {},
   "outputs": [],
   "source": [
    "'''\n",
    "A Deep Learning Neural Network made from Fully Connected Layers\n",
    "for the MNIST DATA for Hand Written Numbers\n",
    "Made From SCRATCHZZZSSSXXX\n",
    "'''"
   ]
  },
  {
   "cell_type": "code",
   "execution_count": 1,
   "metadata": {},
   "outputs": [],
   "source": [
    "import numpy as np\n",
    "from matplotlib import pyplot as plt\n",
    "from tqdm import tqdm\n",
    "import pandas as pd"
   ]
  },
  {
   "cell_type": "code",
   "execution_count": null,
   "metadata": {},
   "outputs": [],
   "source": [
    "# train_csv = pd.read_csv(\"C:\\\\Users\\\\CastroPC\\\\Desktop\\\\train.csv\")\n",
    "# test_csv = pd.read_csv(\"C:\\\\Users\\\\CastroPC\\\\Desktop\\\\test.csv\")\n",
    "\n",
    "# train_DF = pd.DataFrame(train_csv)\n",
    "# test_DF = pd.DataFrame(test_csv)\n",
    "\n",
    "\n",
    "# TrainingDataTarget = []\n",
    "# TrainingDataValue = []\n",
    "# TestData = []\n",
    "\n",
    "# for i in tqdm(range(len(train_DF))):\n",
    "#    if train_DF.loc[i][0] == 0:\n",
    "#        target = [1, 0, 0, 0, 0, 0, 0, 0, 0, 0]\n",
    "#    elif train_DF.loc[i][0] == 1:\n",
    "#        target = [0, 1, 0, 0, 0, 0, 0, 0, 0, 0]\n",
    "#    elif train_DF.loc[i][0] == 2:\n",
    "#        target = [0, 0, 1, 0, 0, 0, 0, 0, 0, 0]\n",
    "#    elif train_DF.loc[i][0] == 3:\n",
    "#        target = [0, 0, 0, 1, 0, 0, 0, 0, 0, 0]\n",
    "#    elif train_DF.loc[i][0] == 4:\n",
    "#        target = [0, 0, 0, 0, 1, 0, 0, 0, 0, 0]\n",
    "#    elif train_DF.loc[i][0] == 5:\n",
    "#        target = [0, 0, 0, 0, 0, 1, 0, 0, 0, 0]\n",
    "#    elif train_DF.loc[i][0] == 6:\n",
    "#        target = [0, 0, 0, 0, 0, 0, 1, 0, 0, 0]\n",
    "#    elif train_DF.loc[i][0] == 7:\n",
    "#        target = [0, 0, 0, 0, 0, 0, 0, 1, 0, 0]\n",
    "#    elif train_DF.loc[i][0] == 8:\n",
    "#        target = [0, 0, 0, 0, 0, 0, 0, 0, 1, 0]\n",
    "#    elif train_DF.loc[i][0] == 9:\n",
    "#        target = [0, 0, 0, 0, 0, 0, 0, 0, 0, 1]\n",
    "#    TrainingDataValue.append(train_DF.loc[i][1:])\n",
    "#    TrainingDataTarget.append(target)\n",
    "# for i in tqdm(range(len(test_DF))):\n",
    "#    TestData.append(np.array(test_DF.loc[i]))\n",
    "\n",
    "# np.save(\"C:\\\\Users\\\\CastroPC\\\\Desktop\\\\TrainingDataTarget\", TrainingDataTarget)\n",
    "# np.save(\"C:\\\\Users\\\\CastroPC\\\\Desktop\\\\TrainingDataValue\", TrainingDataValue)\n",
    "# np.save(\"C:\\\\Users\\\\CastroPC\\\\Desktop\\\\TestData\", TestData)"
   ]
  },
  {
   "cell_type": "code",
   "execution_count": 2,
   "metadata": {},
   "outputs": [],
   "source": [
    "def stablesoftmax(x):\n",
    "    \"\"\"Compute the softmax of vector x in a numerically stable way.\"\"\"\n",
    "    shiftx = x - np.max(x)\n",
    "    exps = np.exp(shiftx)\n",
    "    return exps / np.sum(exps)\n",
    "\n",
    "def dtanH(x):\n",
    "    return 1 - np.tanh(x)**2\n",
    "\n",
    "def tanH(x):\n",
    "    return np.tanh(x)\n",
    "\n",
    "def ReLU(x):\n",
    "    return x * (x > 0)\n",
    "\n",
    "def dReLU(x):\n",
    "    return 1. * (x > 0)\n",
    "\n",
    "def softmax(z):\n",
    "    return np.exp(z) / np.sum(np.exp(z))\n",
    "\n",
    "def softmax_d(z):\n",
    "    return softmax_broadcast(z) * (1 - softmax_broadcast(z))\n",
    "\n",
    "def cross_ent(y, yhat):\n",
    "    return -1 * np.sum(y * np.log(yhat+1e-16))\n",
    "\n",
    "#def cross_entropy(predictions, targets, epsilon=1e-12):\n",
    "#    \"\"\"\n",
    "#    Computes cross entropy between targets (encoded as one-hot vectors)\n",
    "#    and predictions. \n",
    "#    Input: predictions (N, k) ndarray\n",
    "#           targets (N, k) ndarray        \n",
    "#    Returns: scalar\n",
    "#    \"\"\"\n",
    "#    predictions = np.clip(predictions, epsilon, 1. - epsilon)\n",
    "#    N = predictions.shape[0]\n",
    "#    ce = -np.sum(targets*np.log(predictions+1e-9))/N\n",
    "#    return ce\n",
    "\n",
    "def cross_ent_d(y, yhat):\n",
    "    return yhat - y\n",
    "\n",
    "def softmax_broadcast(z):\n",
    "    assert len(z.shape) == 2\n",
    "    s = np.max(z, axis=1)\n",
    "    s = s[:, np.newaxis] # necessary step to do broadcasting\n",
    "    e_x = np.exp(z - s)\n",
    "    div = np.sum(e_x, axis=1)\n",
    "    div = div[:, np.newaxis] # dito\n",
    "    return e_x / div"
   ]
  },
  {
   "cell_type": "code",
   "execution_count": 33,
   "metadata": {},
   "outputs": [],
   "source": [
    "\n",
    "w1 = np.random.randn(784, 300)\n",
    "b1 = np.random.randn(1, 300)\n",
    "\n",
    "w2 = np.random.randn(300, 280)\n",
    "b2 = np.random.randn(1, 280)\n",
    "\n",
    "w3 = np.random.randn(280, 280)\n",
    "b3 = np.random.randn(1, 280)\n",
    "\n",
    "w4 = np.random.randn(280, 250)\n",
    "b4 = np.random.randn(1, 250)\n",
    "\n",
    "w5 = np.random.randn(250, 250)\n",
    "b5 = np.random.randn(1, 250)\n",
    "\n",
    "w6 = np.random.randn(250, 200)\n",
    "b6 = np.random.randn(1, 200)\n",
    "\n",
    "w7 = np.random.randn(200, 200)\n",
    "b7 = np.random.randn(1, 200)\n",
    "\n",
    "w8 = np.random.randn(200, 180)\n",
    "b8 = np.random.randn(1, 180)\n",
    "\n",
    "w9 = np.random.randn(180, 180)\n",
    "b9 = np.random.randn(1, 180)\n",
    "\n",
    "w10 = np.random.randn(180, 100)\n",
    "b10 = np.random.randn(1, 100)\n",
    "\n",
    "w11 = np.random.randn(100, 50)\n",
    "b11 = np.random.randn(1, 50)\n",
    "\n",
    "w12 = np.random.randn(50, 50)\n",
    "b12 = np.random.randn(1, 50)\n",
    "\n",
    "w13 = np.random.randn(50, 30)\n",
    "b13 = np.random.randn(1, 30)\n",
    "\n",
    "w14 = np.random.randn(30, 10)\n",
    "b14 = np.random.randn(1, 10)"
   ]
  },
  {
   "cell_type": "code",
   "execution_count": 20,
   "metadata": {},
   "outputs": [],
   "source": [
    "# w1 = np.load(\"weights1.npy\")\n",
    "# w2 = np.load(\"weights2.npy\")\n",
    "# w3 = np.load(\"weights3.npy\")\n",
    "# w4 = np.load(\"weights4.npy\")\n",
    "# w5 = np.load(\"weights5.npy\")\n",
    "# w6 = np.load(\"weights6.npy\")\n",
    "# w7 = np.load(\"weights7.npy\")\n",
    "# w8 = np.load(\"weights8.npy\")\n",
    "# w9 = np.load(\"weights9.npy\")\n",
    "# w10 = np.load(\"weights10.npy\")\n",
    "# w11 = np.load(\"weights11.npy\")\n",
    "# w12 = np.load(\"weights12.npy\")\n",
    "# w13 = np.load(\"weights13.npy\")\n",
    "# w14 = np.load(\"weights14.npy\")\n",
    "\n",
    "# b1 = np.load(\"bias1.npy\")\n",
    "# b2 = np.load(\"bias2.npy\")\n",
    "# b3 = np.load(\"bias3.npy\")\n",
    "# b4 = np.load(\"bias4.npy\")\n",
    "# b5 = np.load(\"bias5.npy\")\n",
    "# b6 = np.load(\"bias6.npy\")\n",
    "# b7 = np.load(\"bias7.npy\")\n",
    "# b8 = np.load(\"bias8.npy\")\n",
    "# b9 = np.load(\"bias9.npy\")\n",
    "# b10 = np.load(\"bias10.npy\")\n",
    "# b11 = np.load(\"bias11.npy\")\n",
    "# b12 = np.load(\"bias12.npy\")\n",
    "# b13 = np.load(\"bias13.npy\")\n",
    "# b14 = np.load(\"bias14.npy\")"
   ]
  },
  {
   "cell_type": "code",
   "execution_count": 34,
   "metadata": {},
   "outputs": [],
   "source": [
    "costlist = []\n",
    "TrainingDataTarget = np.load(\"C:\\\\Users\\\\CastroPC\\\\Desktop\\\\TrainingDataTarget.npy\", allow_pickle=True)\n",
    "TrainingDataValue = np.load(\"C:\\\\Users\\\\CastroPC\\\\Desktop\\\\TrainingDataValue.npy\", allow_pickle=True)"
   ]
  },
  {
   "cell_type": "code",
   "execution_count": 41,
   "metadata": {},
   "outputs": [],
   "source": [
    "iterations = 100\n",
    "lr = 0.0001"
   ]
  },
  {
   "cell_type": "code",
   "execution_count": 42,
   "metadata": {},
   "outputs": [
    {
     "name": "stderr",
     "output_type": "stream",
     "text": [
      "\n",
      "\n",
      "  0%|          | 0/100 [00:00<?, ?it/s]"
     ]
    },
    {
     "name": "stdout",
     "output_type": "stream",
     "text": [
      "118565.23640394968\n"
     ]
    },
    {
     "name": "stderr",
     "output_type": "stream",
     "text": [
      "\n",
      "\n",
      "  1%|          | 1/100 [00:03<05:02,  3.06s/it]"
     ]
    },
    {
     "name": "stdout",
     "output_type": "stream",
     "text": [
      "112820.60074314052\n"
     ]
    },
    {
     "name": "stderr",
     "output_type": "stream",
     "text": [
      "\n",
      "\n",
      "  2%|▏         | 2/100 [00:07<05:41,  3.49s/it]"
     ]
    },
    {
     "name": "stdout",
     "output_type": "stream",
     "text": [
      "112095.5426997349\n"
     ]
    },
    {
     "name": "stderr",
     "output_type": "stream",
     "text": [
      "\n",
      "\n",
      "  3%|▎         | 3/100 [00:10<05:33,  3.44s/it]"
     ]
    },
    {
     "name": "stdout",
     "output_type": "stream",
     "text": [
      "106941.90840240492\n"
     ]
    },
    {
     "name": "stderr",
     "output_type": "stream",
     "text": [
      "\n",
      "\n",
      "  4%|▍         | 4/100 [00:15<05:51,  3.66s/it]"
     ]
    },
    {
     "name": "stdout",
     "output_type": "stream",
     "text": [
      "104039.05806452579\n"
     ]
    },
    {
     "name": "stderr",
     "output_type": "stream",
     "text": [
      "\n",
      "\n",
      "  5%|▌         | 5/100 [00:18<05:31,  3.49s/it]"
     ]
    },
    {
     "name": "stdout",
     "output_type": "stream",
     "text": [
      "101297.32106041818\n"
     ]
    },
    {
     "name": "stderr",
     "output_type": "stream",
     "text": [
      "\n",
      "\n",
      "  6%|▌         | 6/100 [00:21<05:25,  3.46s/it]"
     ]
    },
    {
     "name": "stdout",
     "output_type": "stream",
     "text": [
      "99813.22799392772\n"
     ]
    },
    {
     "name": "stderr",
     "output_type": "stream",
     "text": [
      "\n",
      "\n",
      "  7%|▋         | 7/100 [00:25<05:39,  3.65s/it]"
     ]
    },
    {
     "name": "stdout",
     "output_type": "stream",
     "text": [
      "98781.13097418206\n"
     ]
    },
    {
     "name": "stderr",
     "output_type": "stream",
     "text": [
      "\n",
      "\n",
      "  8%|▊         | 8/100 [00:28<05:23,  3.52s/it]"
     ]
    },
    {
     "name": "stdout",
     "output_type": "stream",
     "text": [
      "97868.06004260869\n"
     ]
    },
    {
     "name": "stderr",
     "output_type": "stream",
     "text": [
      "\n",
      "\n",
      "  9%|▉         | 9/100 [00:32<05:21,  3.53s/it]"
     ]
    },
    {
     "name": "stdout",
     "output_type": "stream",
     "text": [
      "97133.25524151827\n"
     ]
    },
    {
     "name": "stderr",
     "output_type": "stream",
     "text": [
      "\n",
      "\n",
      " 10%|█         | 10/100 [00:35<05:14,  3.50s/it]"
     ]
    },
    {
     "name": "stdout",
     "output_type": "stream",
     "text": [
      "96735.4176389486\n"
     ]
    },
    {
     "name": "stderr",
     "output_type": "stream",
     "text": [
      "\n",
      "\n",
      " 11%|█         | 11/100 [00:39<05:21,  3.61s/it]"
     ]
    },
    {
     "name": "stdout",
     "output_type": "stream",
     "text": [
      "96650.50729437199\n"
     ]
    },
    {
     "name": "stderr",
     "output_type": "stream",
     "text": [
      "\n",
      "\n",
      " 12%|█▏        | 12/100 [00:43<05:28,  3.74s/it]"
     ]
    },
    {
     "name": "stdout",
     "output_type": "stream",
     "text": [
      "96648.78139224934\n"
     ]
    },
    {
     "name": "stderr",
     "output_type": "stream",
     "text": [
      "\n",
      "\n",
      " 13%|█▎        | 13/100 [00:47<05:30,  3.80s/it]"
     ]
    },
    {
     "name": "stdout",
     "output_type": "stream",
     "text": [
      "96648.76032467991\n"
     ]
    },
    {
     "name": "stderr",
     "output_type": "stream",
     "text": [
      "\n",
      "\n",
      " 14%|█▍        | 14/100 [00:50<05:08,  3.58s/it]"
     ]
    },
    {
     "name": "stdout",
     "output_type": "stream",
     "text": [
      "96648.75816110108\n"
     ]
    },
    {
     "name": "stderr",
     "output_type": "stream",
     "text": [
      "\n",
      "\n",
      " 15%|█▌        | 15/100 [00:55<05:24,  3.82s/it]"
     ]
    },
    {
     "name": "stdout",
     "output_type": "stream",
     "text": [
      "96648.75781554666\n"
     ]
    },
    {
     "name": "stderr",
     "output_type": "stream",
     "text": [
      "\n",
      "\n",
      " 16%|█▌        | 16/100 [00:58<05:14,  3.75s/it]"
     ]
    },
    {
     "name": "stdout",
     "output_type": "stream",
     "text": [
      "96648.75775825411\n"
     ]
    },
    {
     "name": "stderr",
     "output_type": "stream",
     "text": [
      "\n",
      "\n",
      " 17%|█▋        | 17/100 [01:02<05:04,  3.66s/it]"
     ]
    },
    {
     "name": "stdout",
     "output_type": "stream",
     "text": [
      "96648.75774864007\n"
     ]
    },
    {
     "name": "stderr",
     "output_type": "stream",
     "text": [
      "\n",
      "\n",
      " 18%|█▊        | 18/100 [01:05<04:47,  3.51s/it]"
     ]
    },
    {
     "name": "stdout",
     "output_type": "stream",
     "text": [
      "96648.75774702846\n"
     ]
    },
    {
     "name": "stderr",
     "output_type": "stream",
     "text": [
      "\n",
      "\n",
      " 19%|█▉        | 19/100 [01:08<04:38,  3.44s/it]"
     ]
    },
    {
     "name": "stdout",
     "output_type": "stream",
     "text": [
      "96648.75774675794\n"
     ]
    },
    {
     "name": "stderr",
     "output_type": "stream",
     "text": [
      "\n",
      "\n",
      " 20%|██        | 20/100 [01:12<04:37,  3.47s/it]"
     ]
    },
    {
     "name": "stdout",
     "output_type": "stream",
     "text": [
      "96648.75774671255\n"
     ]
    },
    {
     "name": "stderr",
     "output_type": "stream",
     "text": [
      "\n",
      "\n",
      " 21%|██        | 21/100 [01:15<04:35,  3.49s/it]"
     ]
    },
    {
     "name": "stdout",
     "output_type": "stream",
     "text": [
      "96648.75774670493\n"
     ]
    },
    {
     "name": "stderr",
     "output_type": "stream",
     "text": [
      "\n",
      "\n",
      " 22%|██▏       | 22/100 [01:19<04:31,  3.49s/it]"
     ]
    },
    {
     "name": "stdout",
     "output_type": "stream",
     "text": [
      "96648.75774670368\n"
     ]
    },
    {
     "name": "stderr",
     "output_type": "stream",
     "text": [
      "\n",
      "\n",
      " 23%|██▎       | 23/100 [01:22<04:26,  3.46s/it]"
     ]
    },
    {
     "name": "stdout",
     "output_type": "stream",
     "text": [
      "96648.7577467035\n"
     ]
    },
    {
     "name": "stderr",
     "output_type": "stream",
     "text": [
      "\n",
      "\n",
      " 24%|██▍       | 24/100 [01:26<04:27,  3.52s/it]"
     ]
    },
    {
     "name": "stdout",
     "output_type": "stream",
     "text": [
      "96648.75774670341\n"
     ]
    },
    {
     "name": "stderr",
     "output_type": "stream",
     "text": [
      "\n",
      "\n",
      " 25%|██▌       | 25/100 [01:29<04:23,  3.52s/it]"
     ]
    },
    {
     "name": "stdout",
     "output_type": "stream",
     "text": [
      "96648.75774670346\n"
     ]
    },
    {
     "name": "stderr",
     "output_type": "stream",
     "text": [
      "\n",
      "\n",
      " 26%|██▌       | 26/100 [01:33<04:18,  3.50s/it]"
     ]
    },
    {
     "name": "stdout",
     "output_type": "stream",
     "text": [
      "96648.75774670341\n"
     ]
    },
    {
     "name": "stderr",
     "output_type": "stream",
     "text": [
      "\n",
      "\n",
      " 27%|██▋       | 27/100 [01:36<04:16,  3.52s/it]"
     ]
    },
    {
     "name": "stdout",
     "output_type": "stream",
     "text": [
      "96648.75774670344\n"
     ]
    },
    {
     "name": "stderr",
     "output_type": "stream",
     "text": [
      "\n",
      "\n",
      " 28%|██▊       | 28/100 [01:40<04:28,  3.73s/it]"
     ]
    },
    {
     "name": "stdout",
     "output_type": "stream",
     "text": [
      "96648.75774670341\n"
     ]
    },
    {
     "name": "stderr",
     "output_type": "stream",
     "text": [
      "\n",
      "\n",
      " 29%|██▉       | 29/100 [01:44<04:13,  3.57s/it]"
     ]
    },
    {
     "name": "stdout",
     "output_type": "stream",
     "text": [
      "96648.75774670341\n"
     ]
    },
    {
     "name": "stderr",
     "output_type": "stream",
     "text": [
      "\n",
      "\n",
      " 30%|███       | 30/100 [01:47<04:06,  3.52s/it]"
     ]
    },
    {
     "name": "stdout",
     "output_type": "stream",
     "text": [
      "96648.75774670343\n"
     ]
    },
    {
     "name": "stderr",
     "output_type": "stream",
     "text": [
      "\n",
      "\n",
      " 31%|███       | 31/100 [01:51<04:02,  3.51s/it]"
     ]
    },
    {
     "name": "stdout",
     "output_type": "stream",
     "text": [
      "96648.75774670341\n"
     ]
    },
    {
     "name": "stderr",
     "output_type": "stream",
     "text": [
      "\n",
      "\n",
      " 32%|███▏      | 32/100 [01:54<03:56,  3.48s/it]"
     ]
    },
    {
     "name": "stdout",
     "output_type": "stream",
     "text": [
      "96648.75774670341\n"
     ]
    },
    {
     "name": "stderr",
     "output_type": "stream",
     "text": [
      "\n",
      "\n",
      " 33%|███▎      | 33/100 [01:57<03:52,  3.47s/it]"
     ]
    },
    {
     "name": "stdout",
     "output_type": "stream",
     "text": [
      "96648.75774670341\n"
     ]
    },
    {
     "name": "stderr",
     "output_type": "stream",
     "text": [
      "\n",
      "\n",
      " 34%|███▍      | 34/100 [02:01<03:54,  3.55s/it]"
     ]
    },
    {
     "name": "stdout",
     "output_type": "stream",
     "text": [
      "96648.75774670344\n"
     ]
    },
    {
     "name": "stderr",
     "output_type": "stream",
     "text": [
      "\n",
      "\n",
      " 35%|███▌      | 35/100 [02:05<03:57,  3.66s/it]"
     ]
    },
    {
     "name": "stdout",
     "output_type": "stream",
     "text": [
      "96648.75774670344\n"
     ]
    },
    {
     "name": "stderr",
     "output_type": "stream",
     "text": [
      "\n",
      "\n",
      " 36%|███▌      | 36/100 [02:08<03:50,  3.59s/it]"
     ]
    },
    {
     "name": "stdout",
     "output_type": "stream",
     "text": [
      "96648.75774670343\n"
     ]
    },
    {
     "name": "stderr",
     "output_type": "stream",
     "text": [
      "\n",
      "\n",
      " 37%|███▋      | 37/100 [02:12<03:43,  3.55s/it]"
     ]
    },
    {
     "name": "stdout",
     "output_type": "stream",
     "text": [
      "96648.7577467034\n"
     ]
    },
    {
     "name": "stderr",
     "output_type": "stream",
     "text": [
      "\n",
      "\n",
      " 38%|███▊      | 38/100 [02:16<03:43,  3.60s/it]"
     ]
    },
    {
     "name": "stdout",
     "output_type": "stream",
     "text": [
      "96648.75774670344\n"
     ]
    },
    {
     "name": "stderr",
     "output_type": "stream",
     "text": [
      "\n",
      "\n",
      " 39%|███▉      | 39/100 [02:19<03:37,  3.57s/it]"
     ]
    },
    {
     "name": "stdout",
     "output_type": "stream",
     "text": [
      "96648.75774670343\n"
     ]
    },
    {
     "name": "stderr",
     "output_type": "stream",
     "text": [
      "\n",
      "\n",
      " 40%|████      | 40/100 [02:23<03:31,  3.52s/it]"
     ]
    },
    {
     "name": "stdout",
     "output_type": "stream",
     "text": [
      "96648.75774670343\n"
     ]
    },
    {
     "name": "stderr",
     "output_type": "stream",
     "text": [
      "\n",
      "\n",
      " 41%|████      | 41/100 [02:26<03:26,  3.51s/it]"
     ]
    },
    {
     "name": "stdout",
     "output_type": "stream",
     "text": [
      "96648.75774670344\n"
     ]
    },
    {
     "name": "stderr",
     "output_type": "stream",
     "text": [
      "\n",
      "\n",
      " 42%|████▏     | 42/100 [02:30<03:36,  3.73s/it]"
     ]
    },
    {
     "name": "stdout",
     "output_type": "stream",
     "text": [
      "96648.75774670343\n"
     ]
    },
    {
     "name": "stderr",
     "output_type": "stream",
     "text": [
      "\n",
      "\n",
      " 43%|████▎     | 43/100 [02:33<03:22,  3.54s/it]"
     ]
    },
    {
     "name": "stdout",
     "output_type": "stream",
     "text": [
      "96648.75774670343\n"
     ]
    },
    {
     "name": "stderr",
     "output_type": "stream",
     "text": [
      "\n",
      "\n",
      " 44%|████▍     | 44/100 [02:38<03:28,  3.72s/it]"
     ]
    },
    {
     "name": "stdout",
     "output_type": "stream",
     "text": [
      "96648.75774670343\n"
     ]
    },
    {
     "name": "stderr",
     "output_type": "stream",
     "text": [
      "\n",
      "\n",
      " 45%|████▌     | 45/100 [02:41<03:21,  3.67s/it]"
     ]
    },
    {
     "name": "stdout",
     "output_type": "stream",
     "text": [
      "96648.75774670344\n"
     ]
    },
    {
     "name": "stderr",
     "output_type": "stream",
     "text": [
      "\n",
      "\n",
      " 46%|████▌     | 46/100 [02:45<03:24,  3.78s/it]"
     ]
    },
    {
     "name": "stdout",
     "output_type": "stream",
     "text": [
      "96648.75774670343\n"
     ]
    },
    {
     "name": "stderr",
     "output_type": "stream",
     "text": [
      "\n",
      "\n",
      " 47%|████▋     | 47/100 [02:49<03:20,  3.78s/it]"
     ]
    },
    {
     "name": "stdout",
     "output_type": "stream",
     "text": [
      "96648.75774670344\n"
     ]
    },
    {
     "name": "stderr",
     "output_type": "stream",
     "text": [
      "\n",
      "\n",
      " 48%|████▊     | 48/100 [02:52<03:05,  3.57s/it]"
     ]
    },
    {
     "name": "stdout",
     "output_type": "stream",
     "text": [
      "96648.75774670343\n"
     ]
    },
    {
     "name": "stderr",
     "output_type": "stream",
     "text": [
      "\n",
      "\n",
      " 49%|████▉     | 49/100 [02:55<02:58,  3.51s/it]"
     ]
    },
    {
     "name": "stdout",
     "output_type": "stream",
     "text": [
      "96648.75774670343\n"
     ]
    },
    {
     "name": "stderr",
     "output_type": "stream",
     "text": [
      "\n",
      "\n",
      " 50%|█████     | 50/100 [02:59<02:53,  3.48s/it]"
     ]
    },
    {
     "name": "stdout",
     "output_type": "stream",
     "text": [
      "96648.75774670343\n"
     ]
    },
    {
     "name": "stderr",
     "output_type": "stream",
     "text": [
      "\n",
      "\n",
      " 51%|█████     | 51/100 [03:03<03:01,  3.70s/it]"
     ]
    },
    {
     "name": "stdout",
     "output_type": "stream",
     "text": [
      "96648.75774670343\n"
     ]
    },
    {
     "name": "stderr",
     "output_type": "stream",
     "text": [
      "\n",
      "\n",
      " 52%|█████▏    | 52/100 [03:07<02:58,  3.71s/it]"
     ]
    },
    {
     "name": "stdout",
     "output_type": "stream",
     "text": [
      "96648.75774670343\n"
     ]
    },
    {
     "name": "stderr",
     "output_type": "stream",
     "text": [
      "\n",
      "\n",
      " 53%|█████▎    | 53/100 [03:10<02:45,  3.52s/it]"
     ]
    },
    {
     "name": "stdout",
     "output_type": "stream",
     "text": [
      "96648.75774670343\n"
     ]
    },
    {
     "name": "stderr",
     "output_type": "stream",
     "text": [
      "\n",
      "\n",
      " 54%|█████▍    | 54/100 [03:13<02:39,  3.46s/it]"
     ]
    },
    {
     "name": "stdout",
     "output_type": "stream",
     "text": [
      "96648.75774670344\n"
     ]
    },
    {
     "name": "stderr",
     "output_type": "stream",
     "text": [
      "\n",
      "\n",
      " 55%|█████▌    | 55/100 [03:17<02:35,  3.45s/it]"
     ]
    },
    {
     "name": "stdout",
     "output_type": "stream",
     "text": [
      "96648.75774670344\n"
     ]
    },
    {
     "name": "stderr",
     "output_type": "stream",
     "text": [
      "\n",
      "\n",
      " 56%|█████▌    | 56/100 [03:21<02:43,  3.73s/it]"
     ]
    },
    {
     "name": "stdout",
     "output_type": "stream",
     "text": [
      "96648.75774670343\n"
     ]
    },
    {
     "name": "stderr",
     "output_type": "stream",
     "text": [
      "\n",
      "\n",
      " 57%|█████▋    | 57/100 [03:24<02:32,  3.54s/it]"
     ]
    },
    {
     "name": "stdout",
     "output_type": "stream",
     "text": [
      "96648.75774670343\n"
     ]
    },
    {
     "name": "stderr",
     "output_type": "stream",
     "text": [
      "\n",
      "\n",
      " 58%|█████▊    | 58/100 [03:27<02:27,  3.51s/it]"
     ]
    },
    {
     "name": "stdout",
     "output_type": "stream",
     "text": [
      "96648.75774670344\n"
     ]
    },
    {
     "name": "stderr",
     "output_type": "stream",
     "text": [
      "\n",
      "\n",
      " 59%|█████▉    | 59/100 [03:31<02:22,  3.49s/it]"
     ]
    },
    {
     "name": "stdout",
     "output_type": "stream",
     "text": [
      "96648.75774670344\n"
     ]
    },
    {
     "name": "stderr",
     "output_type": "stream",
     "text": [
      "\n",
      "\n",
      " 60%|██████    | 60/100 [03:35<02:30,  3.76s/it]"
     ]
    },
    {
     "name": "stdout",
     "output_type": "stream",
     "text": [
      "96648.75774670343\n"
     ]
    },
    {
     "name": "stderr",
     "output_type": "stream",
     "text": [
      "\n",
      "\n",
      " 61%|██████    | 61/100 [03:39<02:25,  3.72s/it]"
     ]
    },
    {
     "name": "stdout",
     "output_type": "stream",
     "text": [
      "96648.75774670343\n"
     ]
    },
    {
     "name": "stderr",
     "output_type": "stream",
     "text": [
      "\n",
      "\n",
      " 62%|██████▏   | 62/100 [03:42<02:14,  3.53s/it]"
     ]
    },
    {
     "name": "stdout",
     "output_type": "stream",
     "text": [
      "96648.75774670344\n"
     ]
    },
    {
     "name": "stderr",
     "output_type": "stream",
     "text": [
      "\n",
      "\n",
      " 63%|██████▎   | 63/100 [03:45<02:08,  3.49s/it]"
     ]
    },
    {
     "name": "stdout",
     "output_type": "stream",
     "text": [
      "96648.75774670344\n"
     ]
    },
    {
     "name": "stderr",
     "output_type": "stream",
     "text": [
      "\n",
      "\n",
      " 64%|██████▍   | 64/100 [03:49<02:04,  3.47s/it]"
     ]
    },
    {
     "name": "stdout",
     "output_type": "stream",
     "text": [
      "96648.75774670343\n"
     ]
    },
    {
     "name": "stderr",
     "output_type": "stream",
     "text": [
      "\n",
      "\n",
      " 65%|██████▌   | 65/100 [03:52<02:02,  3.49s/it]"
     ]
    },
    {
     "name": "stdout",
     "output_type": "stream",
     "text": [
      "96648.75774670343\n"
     ]
    },
    {
     "name": "stderr",
     "output_type": "stream",
     "text": [
      "\n",
      "\n",
      " 66%|██████▌   | 66/100 [03:56<01:59,  3.51s/it]"
     ]
    },
    {
     "name": "stdout",
     "output_type": "stream",
     "text": [
      "96648.75774670344\n"
     ]
    },
    {
     "name": "stderr",
     "output_type": "stream",
     "text": [
      "\n",
      "\n",
      " 67%|██████▋   | 67/100 [03:59<01:55,  3.49s/it]"
     ]
    },
    {
     "name": "stdout",
     "output_type": "stream",
     "text": [
      "96648.75774670344\n"
     ]
    },
    {
     "name": "stderr",
     "output_type": "stream",
     "text": [
      "\n",
      "\n",
      " 68%|██████▊   | 68/100 [04:03<01:51,  3.47s/it]"
     ]
    },
    {
     "name": "stdout",
     "output_type": "stream",
     "text": [
      "96648.75774670343\n"
     ]
    },
    {
     "name": "stderr",
     "output_type": "stream",
     "text": [
      "\n",
      "\n",
      " 69%|██████▉   | 69/100 [04:06<01:47,  3.47s/it]"
     ]
    },
    {
     "name": "stdout",
     "output_type": "stream",
     "text": [
      "96648.75774670343\n"
     ]
    },
    {
     "name": "stderr",
     "output_type": "stream",
     "text": [
      "\n",
      "\n",
      " 70%|███████   | 70/100 [04:10<01:44,  3.49s/it]"
     ]
    },
    {
     "name": "stdout",
     "output_type": "stream",
     "text": [
      "96648.75774670344\n"
     ]
    },
    {
     "name": "stderr",
     "output_type": "stream",
     "text": [
      "\n",
      "\n",
      " 71%|███████   | 71/100 [04:14<01:49,  3.78s/it]"
     ]
    },
    {
     "name": "stdout",
     "output_type": "stream",
     "text": [
      "96648.75774670344\n"
     ]
    },
    {
     "name": "stderr",
     "output_type": "stream",
     "text": [
      "\n",
      "\n",
      " 72%|███████▏  | 72/100 [04:17<01:40,  3.58s/it]"
     ]
    },
    {
     "name": "stdout",
     "output_type": "stream",
     "text": [
      "96648.75774670343\n"
     ]
    },
    {
     "name": "stderr",
     "output_type": "stream",
     "text": [
      "\n",
      "\n",
      " 73%|███████▎  | 73/100 [04:21<01:35,  3.53s/it]"
     ]
    },
    {
     "name": "stdout",
     "output_type": "stream",
     "text": [
      "96648.75774670343\n"
     ]
    },
    {
     "name": "stderr",
     "output_type": "stream",
     "text": [
      "\n",
      "\n",
      " 74%|███████▍  | 74/100 [04:25<01:37,  3.73s/it]"
     ]
    },
    {
     "name": "stdout",
     "output_type": "stream",
     "text": [
      "96648.75774670343\n"
     ]
    },
    {
     "name": "stderr",
     "output_type": "stream",
     "text": [
      "\n",
      "\n",
      " 75%|███████▌  | 75/100 [04:28<01:29,  3.58s/it]"
     ]
    },
    {
     "name": "stdout",
     "output_type": "stream",
     "text": [
      "96648.75774670343\n"
     ]
    },
    {
     "name": "stderr",
     "output_type": "stream",
     "text": [
      "\n",
      "\n",
      " 76%|███████▌  | 76/100 [04:32<01:28,  3.69s/it]"
     ]
    },
    {
     "name": "stdout",
     "output_type": "stream",
     "text": [
      "96648.75774670343\n"
     ]
    },
    {
     "name": "stderr",
     "output_type": "stream",
     "text": [
      "\n",
      "\n",
      " 77%|███████▋  | 77/100 [04:36<01:24,  3.66s/it]"
     ]
    },
    {
     "name": "stdout",
     "output_type": "stream",
     "text": [
      "96648.75774670343\n"
     ]
    },
    {
     "name": "stderr",
     "output_type": "stream",
     "text": [
      "\n",
      "\n",
      " 78%|███████▊  | 78/100 [04:39<01:20,  3.65s/it]"
     ]
    },
    {
     "name": "stdout",
     "output_type": "stream",
     "text": [
      "96648.75774670343\n"
     ]
    },
    {
     "name": "stderr",
     "output_type": "stream",
     "text": [
      "\n",
      "\n",
      " 79%|███████▉  | 79/100 [04:43<01:13,  3.51s/it]"
     ]
    },
    {
     "name": "stdout",
     "output_type": "stream",
     "text": [
      "96648.75774670343\n"
     ]
    },
    {
     "name": "stderr",
     "output_type": "stream",
     "text": [
      "\n",
      "\n",
      " 80%|████████  | 80/100 [04:47<01:14,  3.75s/it]"
     ]
    },
    {
     "name": "stdout",
     "output_type": "stream",
     "text": [
      "96648.75774670343\n"
     ]
    },
    {
     "name": "stderr",
     "output_type": "stream",
     "text": [
      "\n",
      "\n",
      " 81%|████████  | 81/100 [04:50<01:07,  3.54s/it]"
     ]
    },
    {
     "name": "stdout",
     "output_type": "stream",
     "text": [
      "96648.75774670343\n"
     ]
    },
    {
     "name": "stderr",
     "output_type": "stream",
     "text": [
      "\n",
      "\n",
      " 82%|████████▏ | 82/100 [04:53<01:03,  3.52s/it]"
     ]
    },
    {
     "name": "stdout",
     "output_type": "stream",
     "text": [
      "96648.75774670343\n"
     ]
    },
    {
     "name": "stderr",
     "output_type": "stream",
     "text": [
      "\n",
      "\n",
      " 83%|████████▎ | 83/100 [04:58<01:03,  3.71s/it]"
     ]
    },
    {
     "name": "stdout",
     "output_type": "stream",
     "text": [
      "96648.75774670343\n"
     ]
    },
    {
     "name": "stderr",
     "output_type": "stream",
     "text": [
      "\n",
      "\n",
      " 84%|████████▍ | 84/100 [05:01<00:56,  3.54s/it]"
     ]
    },
    {
     "name": "stdout",
     "output_type": "stream",
     "text": [
      "96648.75774670343\n"
     ]
    },
    {
     "name": "stderr",
     "output_type": "stream",
     "text": [
      "\n",
      "\n",
      " 85%|████████▌ | 85/100 [05:05<00:56,  3.77s/it]"
     ]
    },
    {
     "name": "stdout",
     "output_type": "stream",
     "text": [
      "96648.75774670343\n"
     ]
    },
    {
     "name": "stderr",
     "output_type": "stream",
     "text": [
      "\n",
      "\n",
      " 86%|████████▌ | 86/100 [05:08<00:49,  3.56s/it]"
     ]
    },
    {
     "name": "stdout",
     "output_type": "stream",
     "text": [
      "96648.75774670343\n"
     ]
    },
    {
     "name": "stderr",
     "output_type": "stream",
     "text": [
      "\n",
      "\n",
      " 87%|████████▋ | 87/100 [05:12<00:46,  3.60s/it]"
     ]
    },
    {
     "name": "stdout",
     "output_type": "stream",
     "text": [
      "96648.75774670343\n"
     ]
    },
    {
     "name": "stderr",
     "output_type": "stream",
     "text": [
      "\n",
      "\n",
      " 88%|████████▊ | 88/100 [05:15<00:42,  3.55s/it]"
     ]
    },
    {
     "name": "stdout",
     "output_type": "stream",
     "text": [
      "96648.75774670343\n"
     ]
    },
    {
     "name": "stderr",
     "output_type": "stream",
     "text": [
      "\n",
      "\n",
      " 89%|████████▉ | 89/100 [05:19<00:38,  3.52s/it]"
     ]
    },
    {
     "name": "stdout",
     "output_type": "stream",
     "text": [
      "96648.75774670344\n"
     ]
    },
    {
     "name": "stderr",
     "output_type": "stream",
     "text": [
      "\n",
      "\n",
      " 90%|█████████ | 90/100 [05:22<00:34,  3.49s/it]"
     ]
    },
    {
     "name": "stdout",
     "output_type": "stream",
     "text": [
      "96648.75774670343\n"
     ]
    },
    {
     "name": "stderr",
     "output_type": "stream",
     "text": [
      "\n",
      "\n",
      " 91%|█████████ | 91/100 [05:26<00:31,  3.53s/it]"
     ]
    },
    {
     "name": "stdout",
     "output_type": "stream",
     "text": [
      "96648.75774670343\n"
     ]
    },
    {
     "name": "stderr",
     "output_type": "stream",
     "text": [
      "\n",
      "\n",
      " 92%|█████████▏| 92/100 [05:30<00:30,  3.77s/it]"
     ]
    },
    {
     "name": "stdout",
     "output_type": "stream",
     "text": [
      "96648.75774670343\n"
     ]
    },
    {
     "name": "stderr",
     "output_type": "stream",
     "text": [
      "\n",
      "\n",
      " 93%|█████████▎| 93/100 [05:34<00:26,  3.75s/it]"
     ]
    },
    {
     "name": "stdout",
     "output_type": "stream",
     "text": [
      "96648.75774670344\n"
     ]
    },
    {
     "name": "stderr",
     "output_type": "stream",
     "text": [
      "\n",
      "\n",
      " 94%|█████████▍| 94/100 [05:37<00:21,  3.56s/it]"
     ]
    },
    {
     "name": "stdout",
     "output_type": "stream",
     "text": [
      "96648.75774670343\n"
     ]
    },
    {
     "name": "stderr",
     "output_type": "stream",
     "text": [
      "\n",
      "\n",
      " 95%|█████████▌| 95/100 [05:41<00:18,  3.69s/it]"
     ]
    },
    {
     "name": "stdout",
     "output_type": "stream",
     "text": [
      "96648.75774670343\n"
     ]
    },
    {
     "name": "stderr",
     "output_type": "stream",
     "text": [
      "\n",
      "\n",
      " 96%|█████████▌| 96/100 [05:44<00:14,  3.57s/it]"
     ]
    },
    {
     "name": "stdout",
     "output_type": "stream",
     "text": [
      "96648.75774670343\n"
     ]
    },
    {
     "name": "stderr",
     "output_type": "stream",
     "text": [
      "\n",
      "\n",
      " 97%|█████████▋| 97/100 [05:47<00:10,  3.47s/it]"
     ]
    },
    {
     "name": "stdout",
     "output_type": "stream",
     "text": [
      "96648.75774670343\n"
     ]
    },
    {
     "name": "stderr",
     "output_type": "stream",
     "text": [
      "\n",
      "\n",
      " 98%|█████████▊| 98/100 [05:51<00:06,  3.45s/it]"
     ]
    },
    {
     "name": "stdout",
     "output_type": "stream",
     "text": [
      "96648.75774670343\n"
     ]
    },
    {
     "name": "stderr",
     "output_type": "stream",
     "text": [
      "\n",
      "\n",
      " 99%|█████████▉| 99/100 [05:54<00:03,  3.45s/it]"
     ]
    },
    {
     "name": "stdout",
     "output_type": "stream",
     "text": [
      "96648.75774670343\n"
     ]
    },
    {
     "name": "stderr",
     "output_type": "stream",
     "text": [
      "\n",
      "\n",
      "100%|██████████| 100/100 [05:58<00:00,  3.49s/it]\n",
      "\n"
     ]
    }
   ],
   "source": [
    "\n",
    "for i in tqdm(range(iterations)):\n",
    "\n",
    "    InputData1 = TrainingDataValue\n",
    "    TargetData1 = TrainingDataTarget\n",
    "\n",
    "    z1 = np.dot(InputData1, w1) + b1\n",
    "    a1 = tanH(z1)\n",
    "    #a1 - 42000 x 1200  \n",
    "\n",
    "    z2 = np.dot(a1, w2) + b2\n",
    "    a2 = ReLU(z2)\n",
    "    #a2 - 42000 x 1000\n",
    "\n",
    "    z3 = np.dot(a2, w3) + b3\n",
    "    a3 = tanH(z3)\n",
    "    #a3 - 42000 x 1000\n",
    "\n",
    "    z4 = np.dot(a3, w4) + b4\n",
    "    a4 = ReLU(z4)\n",
    "    #a4 - 42000 x 900\n",
    "\n",
    "    z5 = np.dot(a4, w5) + b5\n",
    "    a5 = tanH(z5)\n",
    "\n",
    "    z6 = np.dot(a5, w6) + b6\n",
    "    a6 = ReLU(z6)\n",
    "\n",
    "    z7 = np.dot(a6, w7) + b7\n",
    "    a7 = tanH(z7)\n",
    "\n",
    "    z8 = np.dot(a7, w8) + b8\n",
    "    a8 = ReLU(z8)\n",
    "\n",
    "    z9 = np.dot(a8, w9) + b9\n",
    "    a9 = tanH(z9)\n",
    "\n",
    "    z10 = np.dot(a9, w10) + b10\n",
    "    a10 = ReLU(z10)\n",
    "\n",
    "    z11 = np.dot(a10, w11) + b11\n",
    "    a11 = tanH(z11)\n",
    "\n",
    "    z12 = np.dot(a11, w12) + b12\n",
    "    a12 = ReLU(z12)\n",
    "\n",
    "    z13 = np.dot(a12, w13) + b13\n",
    "    a13 = tanH(z13)\n",
    "\n",
    "    z14 = np.dot(a13, w14) + b14\n",
    "    a14 = softmax_broadcast(z14)\n",
    "\n",
    "\n",
    "    cost = cross_ent(TargetData1, a14)\n",
    "    costlist.append(cost)\n",
    "    print(cost)\n",
    "\n",
    "    #backprop\n",
    "    dcda14 = cross_ent_d(TargetData1, a14)\n",
    "    da14dz14 = softmax_d(z14)\n",
    "    dz14dw14 = a13\n",
    "\n",
    "    dw14 = dcda14 * da14dz14\n",
    "    db14 = np.sum(dw14, axis=0, keepdims=True)\n",
    "    w14 = w14 - lr * np.dot(dz14dw14.T, dw14)\n",
    "    b14 = b14 - lr * db14\n",
    "\n",
    "\n",
    "    dz14da13 = w14\n",
    "    da13dz13 = dtanH(z13)\n",
    "    dz13dw13 = a12\n",
    "\n",
    "    dw13 = np.dot(dw14, dz14da13.T) * da13dz13\n",
    "    db13 = np.sum(dw13, axis=0, keepdims=True)\n",
    "    w13 = w13 - lr * np.dot(dz13dw13.T, dw13)\n",
    "    b13 = b13 - lr * db13\n",
    "\n",
    "\n",
    "    dz13da12 = w13\n",
    "    da12dz12 = dReLU(z12)\n",
    "    dz12dw12 = a11\n",
    "\n",
    "    dw12 = np.dot(dw13, dz13da12.T) * da12dz12\n",
    "    db12 = np.sum(dw12, axis=0, keepdims=True)\n",
    "    w12 = w12 - lr * np.dot(dz12dw12.T, dw12)\n",
    "    b12 = b12 - lr * db12\n",
    "\n",
    "\n",
    "    dz12da11 = w12\n",
    "    da11dz11 = dtanH(z11)\n",
    "    dz11dw11 = a10\n",
    "\n",
    "    dw11 = np.dot(dw12, dz12da11.T) * da11dz11\n",
    "    db11 = np.sum(dw11, axis=0, keepdims=True)\n",
    "    w11 = w11 - lr * np.dot(dz11dw11.T, dw11)\n",
    "    b11 = b11 - lr * db11\n",
    "\n",
    "\n",
    "    dz11da10 = w11\n",
    "    da10dz10 = dReLU(z10)\n",
    "    dz10dw10 = a9\n",
    "\n",
    "    dw10 = np.dot(dw11, dz11da10.T) * da10dz10\n",
    "    db10 = np.sum(dw10, axis=0, keepdims=True)\n",
    "    w10 = w10 - lr * np.dot(dz10dw10.T, dw10)\n",
    "    b10 = b10 - lr * db10\n",
    "\n",
    "\n",
    "    dz10da9 = w10\n",
    "    da9dz9 = dtanH(z9)\n",
    "    dz9dw9 = a8\n",
    "\n",
    "    dw9 = np.dot(dw10, dz10da9.T) * da9dz9\n",
    "    db9 = np.sum(dw9, axis=0, keepdims=True)\n",
    "    w9 = w9 - lr * np.dot(dz9dw9.T, dw9)\n",
    "    b9 = b9 - lr * db9\n",
    "\n",
    "\n",
    "    dz9da8 = w9\n",
    "    da8dz8 = dReLU(z8)\n",
    "    dz8dw8 = a7\n",
    "\n",
    "    dw8 = np.dot(dw9, dz9da8.T) * da8dz8\n",
    "    db8 = np.sum(dw8, axis=0, keepdims=True)\n",
    "    w8 = w8 - lr * np.dot(dz8dw8.T, dw8)\n",
    "    b8 = b8 - lr * db8\n",
    "\n",
    "\n",
    "    dz8da7 = w8\n",
    "    da7dz7 = dtanH(z7)\n",
    "    dz7dw7 = a6\n",
    "\n",
    "    dw7 = np.dot(dw8, dz8da7.T) * da7dz7\n",
    "    db7 = np.sum(dw7, axis=0, keepdims=True)\n",
    "    w7 = w7 - lr * np.dot(dz7dw7.T, dw7)\n",
    "    b7 = b7 - lr * db7\n",
    "\n",
    "\n",
    "    dz7da6 = w7\n",
    "    da6dz6 = dReLU(z6)\n",
    "    dz6dw6 = a5\n",
    "\n",
    "    dw6 = np.dot(dw7, dz7da6.T) * da6dz6\n",
    "    db6 = np.sum(dw6, axis=0, keepdims=True)\n",
    "    w6 = w6 - lr * np.dot(dz6dw6.T, dw6)\n",
    "    b6 = b6 - lr * db6\n",
    "\n",
    "    dz6da5 = w6\n",
    "    da5dz5 = dtanH(z5)\n",
    "    dz5dw5 = a4\n",
    "\n",
    "    dw5 = np.dot(dw6, dz6da5.T) * da5dz5\n",
    "    db5 = np.sum(dw5, axis=0, keepdims=True)\n",
    "    w5 = w5 - lr * np.dot(dz5dw5.T, dw5)\n",
    "    b5 = b5 - lr * db5\n",
    "\n",
    "    dz5da4 = w5\n",
    "    da4dz4 = dReLU(z4)\n",
    "    dz4dw4 = a3\n",
    "\n",
    "    dw4 = np.dot(dw5, dz5da4.T) * da4dz4\n",
    "    db4 = np.sum(dw4, axis=0, keepdims=True)\n",
    "    w4 = w4 - lr * np.dot(dz4dw4.T, dw4)\n",
    "    b4 = b4 - lr * db4\n",
    "\n",
    "    dz4da3 = w4\n",
    "    da3dz3 = dtanH(z3)\n",
    "    dz3dw3 = a2\n",
    "\n",
    "    dw3 = np.dot(dw4, dz4da3.T) * da3dz3\n",
    "    db3 = np.sum(dw3, axis=0, keepdims=True)\n",
    "    w3 = w3 - lr * np.dot(dz3dw3.T, dw3)\n",
    "    b3 = b3 - lr * db3\n",
    "\n",
    "    dz3da2 = w3\n",
    "    da2dz2 = dReLU(z2)\n",
    "    dz2dw2 = a1\n",
    "\n",
    "    dw2 = np.dot(dw3, dz3da2.T) * da2dz2\n",
    "    db2 = np.sum(dw2, axis=0, keepdims=True)\n",
    "    w2 = w2 - lr * np.dot(dz2dw2.T, dw2)\n",
    "    b2 = b2 - lr * db2\n",
    "\n",
    "    dz2da1 = w2\n",
    "    da1dz1 = dtanH(z1)\n",
    "    dz1dw1 = InputData1\n",
    "\n",
    "    dw1 = np.dot(dw2, dz2da1.T) * da1dz1\n",
    "    db1 = np.sum(dw1, axis=0, keepdims=True)\n",
    "    w1 = w1 - lr * np.dot(dz1dw1.T, dw1)\n",
    "    b1 = b1 - lr * db1"
   ]
  },
  {
   "cell_type": "code",
   "execution_count": 43,
   "metadata": {},
   "outputs": [
    {
     "name": "stdout",
     "output_type": "stream",
     "text": [
      "[369797.451830094, 312580.89862715953, 416365.5773052604, 290966.50310648343, 212969.76143918623, 197339.78355557896, 210514.89495373465, 204908.37354286498, 213825.10959403004, 198168.9444619309, 196198.54918251224, 202304.56016577204, 218469.24378010005, 221757.31340044766, 228449.1466751185, 229845.82694310526, 211439.51994505228, 213588.42731779077, 201990.4939672005, 210009.16647491933, 226670.57854610527, 174038.29155107946, 176338.81407002726, 160411.10920542417, 159658.2831399361, 150660.05616222776, 145124.23244851825, 147502.38361008666, 147453.40033009913, 138298.17084975087, 118565.23640394968, 112820.60074314052, 112095.5426997349, 106941.90840240492, 104039.05806452579, 101297.32106041818, 99813.22799392772, 98781.13097418206, 97868.06004260869, 97133.25524151827, 96735.4176389486, 96650.50729437199, 96648.78139224934, 96648.76032467991, 96648.75816110108, 96648.75781554666, 96648.75775825411, 96648.75774864007, 96648.75774702846, 96648.75774675794, 96648.75774671255, 96648.75774670493, 96648.75774670368, 96648.7577467035, 96648.75774670341, 96648.75774670346, 96648.75774670341, 96648.75774670344, 96648.75774670341, 96648.75774670341, 96648.75774670343, 96648.75774670341, 96648.75774670341, 96648.75774670341, 96648.75774670344, 96648.75774670344, 96648.75774670343, 96648.7577467034, 96648.75774670344, 96648.75774670343, 96648.75774670343, 96648.75774670344, 96648.75774670343, 96648.75774670343, 96648.75774670343, 96648.75774670344, 96648.75774670343, 96648.75774670344, 96648.75774670343, 96648.75774670343, 96648.75774670343, 96648.75774670343, 96648.75774670343, 96648.75774670343, 96648.75774670344, 96648.75774670344, 96648.75774670343, 96648.75774670343, 96648.75774670344, 96648.75774670344, 96648.75774670343, 96648.75774670343, 96648.75774670344, 96648.75774670344, 96648.75774670343, 96648.75774670343, 96648.75774670344, 96648.75774670344, 96648.75774670343, 96648.75774670343, 96648.75774670344, 96648.75774670344, 96648.75774670343, 96648.75774670343, 96648.75774670343, 96648.75774670343, 96648.75774670343, 96648.75774670343, 96648.75774670343, 96648.75774670343, 96648.75774670343, 96648.75774670343, 96648.75774670343, 96648.75774670343, 96648.75774670343, 96648.75774670343, 96648.75774670343, 96648.75774670343, 96648.75774670343, 96648.75774670344, 96648.75774670343, 96648.75774670343, 96648.75774670343, 96648.75774670344, 96648.75774670343, 96648.75774670343, 96648.75774670343, 96648.75774670343, 96648.75774670343, 96648.75774670343]\n"
     ]
    },
    {
     "data": {
      "image/png": "[encoded data removed]",
      "text/plain": [
       "<Figure size 432x288 with 1 Axes>"
      ]
     },
     "metadata": {
      "needs_background": "light"
     },
     "output_type": "display_data"
    }
   ],
   "source": [
    "print(costlist)\n",
    "plt.plot(costlist)\n",
    "plt.show()"
   ]
  },
  {
   "cell_type": "code",
   "execution_count": null,
   "metadata": {},
   "outputs": [],
   "source": [
    "np.save(\"weights1\", w1)\n",
    "np.save(\"weights2\", w2)\n",
    "np.save(\"weights3\", w3)\n",
    "np.save(\"weights4\", w4)\n",
    "np.save(\"weights5\", w5)\n",
    "np.save(\"weights6\", w6)\n",
    "np.save(\"weights7\", w7)\n",
    "np.save(\"weights8\", w8)\n",
    "np.save(\"weights9\", w9)\n",
    "np.save(\"weights10\", w10)\n",
    "np.save(\"weights11\", w11)\n",
    "np.save(\"weights12\", w12)\n",
    "np.save(\"weights13\", w13)\n",
    "np.save(\"weights14\", w14)\n",
    "\n",
    "np.save(\"bias1\", b1)\n",
    "np.save(\"bias2\", b2)\n",
    "np.save(\"bias3\", b3)\n",
    "np.save(\"bias4\", b4)\n",
    "np.save(\"bias5\", b5)\n",
    "np.save(\"bias6\", b6)\n",
    "np.save(\"bias7\", b7)\n",
    "np.save(\"bias8\", b8)\n",
    "np.save(\"bias9\", b9)\n",
    "np.save(\"bias10\", b10)\n",
    "np.save(\"bias11\", b11)\n",
    "np.save(\"bias12\", b12)\n",
    "np.save(\"bias13\", b13)\n",
    "np.save(\"bias14\", b14)"
   ]
  },
  {
   "cell_type": "code",
   "execution_count": null,
   "metadata": {},
   "outputs": [],
   "source": []
  }
 ],
 "metadata": {
  "kernelspec": {
   "display_name": "Python 3",
   "language": "python",
   "name": "python3"
  },
  "language_info": {
   "codemirror_mode": {
    "name": "ipython",
    "version": 3
   },
   "file_extension": ".py",
   "mimetype": "text/x-python",
   "name": "python",
   "nbconvert_exporter": "python",
   "pygments_lexer": "ipython3",
   "version": "3.7.1"
  }
 },
 "nbformat": 4,
 "nbformat_minor": 2
}
