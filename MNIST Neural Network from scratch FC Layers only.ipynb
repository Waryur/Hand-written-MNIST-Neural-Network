{
 "cells": [
  {
   "cell_type": "code",
   "execution_count": 2,
   "metadata": {},
   "outputs": [
    {
     "data": {
      "text/plain": [
       "'\\nA Deep Learning Neural Network made from Fully Connected Layers\\nfor the MNIST DATA for Hand Written Numbers\\nMade From SCRATCHZZZSSSXXX\\n'"
      ]
     },
     "execution_count": 2,
     "metadata": {},
     "output_type": "execute_result"
    }
   ],
   "source": [
    "'''\n",
    "A Deep Learning Neural Network made from Fully Connected Layers\n",
    "for the MNIST DATA for Hand Written Numbers\n",
    "Made From SCRATCHZZZSSSXXX\n",
    "'''"
   ]
  },
  {
   "cell_type": "code",
   "execution_count": 3,
   "metadata": {},
   "outputs": [],
   "source": [
    "import numpy as np\n",
    "from matplotlib import pyplot as plt\n",
    "from tqdm import tqdm\n",
    "import pandas as pd"
   ]
  },
  {
   "cell_type": "code",
   "execution_count": null,
   "metadata": {},
   "outputs": [],
   "source": [
    "# train_csv = pd.read_csv(\"C:\\\\Users\\\\CastroPC\\\\Desktop\\\\train.csv\")\n",
    "# test_csv = pd.read_csv(\"C:\\\\Users\\\\CastroPC\\\\Desktop\\\\test.csv\")\n",
    "\n",
    "# train_DF = pd.DataFrame(train_csv)\n",
    "# test_DF = pd.DataFrame(test_csv)\n",
    "\n",
    "\n",
    "# TrainingDataTarget = []\n",
    "# TrainingDataValue = []\n",
    "# TestData = []\n",
    "\n",
    "# for i in tqdm(range(len(train_DF))):\n",
    "#    if train_DF.loc[i][0] == 0:\n",
    "#        target = [1, 0, 0, 0, 0, 0, 0, 0, 0, 0]\n",
    "#    elif train_DF.loc[i][0] == 1:\n",
    "#        target = [0, 1, 0, 0, 0, 0, 0, 0, 0, 0]\n",
    "#    elif train_DF.loc[i][0] == 2:\n",
    "#        target = [0, 0, 1, 0, 0, 0, 0, 0, 0, 0]\n",
    "#    elif train_DF.loc[i][0] == 3:\n",
    "#        target = [0, 0, 0, 1, 0, 0, 0, 0, 0, 0]\n",
    "#    elif train_DF.loc[i][0] == 4:\n",
    "#        target = [0, 0, 0, 0, 1, 0, 0, 0, 0, 0]\n",
    "#    elif train_DF.loc[i][0] == 5:\n",
    "#        target = [0, 0, 0, 0, 0, 1, 0, 0, 0, 0]\n",
    "#    elif train_DF.loc[i][0] == 6:\n",
    "#        target = [0, 0, 0, 0, 0, 0, 1, 0, 0, 0]\n",
    "#    elif train_DF.loc[i][0] == 7:\n",
    "#        target = [0, 0, 0, 0, 0, 0, 0, 1, 0, 0]\n",
    "#    elif train_DF.loc[i][0] == 8:\n",
    "#        target = [0, 0, 0, 0, 0, 0, 0, 0, 1, 0]\n",
    "#    elif train_DF.loc[i][0] == 9:\n",
    "#        target = [0, 0, 0, 0, 0, 0, 0, 0, 0, 1]\n",
    "#    TrainingDataValue.append(train_DF.loc[i][1:])\n",
    "#    TrainingDataTarget.append(target)\n",
    "# for i in tqdm(range(len(test_DF))):\n",
    "#    TestData.append(np.array(test_DF.loc[i]))\n",
    "\n",
    "# np.save(\"C:\\\\Users\\\\CastroPC\\\\Desktop\\\\TrainingDataTarget\", TrainingDataTarget)\n",
    "# np.save(\"C:\\\\Users\\\\CastroPC\\\\Desktop\\\\TrainingDataValue\", TrainingDataValue)\n",
    "# np.save(\"C:\\\\Users\\\\CastroPC\\\\Desktop\\\\TestData\", TestData)"
   ]
  },
  {
   "cell_type": "code",
   "execution_count": 4,
   "metadata": {},
   "outputs": [],
   "source": [
    "def stablesoftmax(x):\n",
    "    \"\"\"Compute the softmax of vector x in a numerically stable way.\"\"\"\n",
    "    shiftx = x - np.max(x)\n",
    "    exps = np.exp(shiftx)\n",
    "    return exps / np.sum(exps)\n",
    "\n",
    "def dtanH(x):\n",
    "    return 1 - np.tanh(x)**2\n",
    "\n",
    "def tanH(x):\n",
    "    return np.tanh(x)\n",
    "\n",
    "def ReLU(x):\n",
    "    return x * (x > 0)\n",
    "\n",
    "def dReLU(x):\n",
    "    return 1. * (x > 0)\n",
    "\n",
    "def softmax(z):\n",
    "    return np.exp(z) / np.sum(np.exp(z))\n",
    "\n",
    "def softmax_d(z):\n",
    "    return softmax_broadcast(z) * (1 - softmax_broadcast(z))\n",
    "\n",
    "def cross_ent(y, yhat):\n",
    "    return -1 * np.sum(y * np.log(yhat+1e-16))\n",
    "\n",
    "#def cross_entropy(predictions, targets, epsilon=1e-12):\n",
    "#    \"\"\"\n",
    "#    Computes cross entropy between targets (encoded as one-hot vectors)\n",
    "#    and predictions. \n",
    "#    Input: predictions (N, k) ndarray\n",
    "#           targets (N, k) ndarray        \n",
    "#    Returns: scalar\n",
    "#    \"\"\"\n",
    "#    predictions = np.clip(predictions, epsilon, 1. - epsilon)\n",
    "#    N = predictions.shape[0]\n",
    "#    ce = -np.sum(targets*np.log(predictions+1e-9))/N\n",
    "#    return ce\n",
    "\n",
    "def cross_ent_d(y, yhat):\n",
    "    return yhat - y\n",
    "\n",
    "def softmax_broadcast(z):\n",
    "    assert len(z.shape) == 2\n",
    "    s = np.max(z, axis=1)\n",
    "    s = s[:, np.newaxis] # necessary step to do broadcasting\n",
    "    e_x = np.exp(z - s)\n",
    "    div = np.sum(e_x, axis=1)\n",
    "    div = div[:, np.newaxis] # dito\n",
    "    return e_x / div"
   ]
  },
  {
   "cell_type": "code",
   "execution_count": 5,
   "metadata": {},
   "outputs": [],
   "source": [
    "\n",
    "w1 = np.random.randn(784, 1200)\n",
    "b1 = np.random.randn(1, 1200)\n",
    "\n",
    "w2 = np.random.randn(1200, 1200)\n",
    "b2 = np.random.randn(1, 1200)\n",
    "\n",
    "w3 = np.random.randn(1200, 1100)\n",
    "b3 = np.random.randn(1, 1100)\n",
    "\n",
    "w4 = np.random.randn(1100, 1100)\n",
    "b4 = np.random.randn(1, 1100)\n",
    "\n",
    "w5 = np.random.randn(1100, 1080)\n",
    "b5 = np.random.randn(1, 1080)\n",
    "\n",
    "w6 = np.random.randn(1080, 1080)\n",
    "b6 = np.random.randn(1, 1080)\n",
    "\n",
    "w7 = np.random.randn(1080, 1060)\n",
    "b7 = np.random.randn(1, 1060)\n",
    "\n",
    "w8 = np.random.randn(1060, 1000)\n",
    "b8 = np.random.randn(1, 1000)\n",
    "\n",
    "w9 = np.random.randn(1000, 1000)\n",
    "b9 = np.random.randn(1, 1000)\n",
    "\n",
    "w10 = np.random.randn(1000, 900)\n",
    "b10 = np.random.randn(1, 900)\n",
    "\n",
    "w11 = np.random.randn(900, 600)\n",
    "b11 = np.random.randn(1, 600)\n",
    "\n",
    "w12 = np.random.randn(600, 300)\n",
    "b12 = np.random.randn(1, 300)\n",
    "\n",
    "w13 = np.random.randn(300, 150)\n",
    "b13 = np.random.randn(1, 150)\n",
    "\n",
    "w14 = np.random.randn(150, 10)\n",
    "b14 = np.random.randn(1, 10)"
   ]
  },
  {
   "cell_type": "code",
   "execution_count": 6,
   "metadata": {},
   "outputs": [],
   "source": [
    "# w1 = np.load(\"weights1.npy\")\n",
    "# w2 = np.load(\"weights2.npy\")\n",
    "# w3 = np.load(\"weights3.npy\")\n",
    "# w4 = np.load(\"weights4.npy\")\n",
    "# w5 = np.load(\"weights5.npy\")\n",
    "# b1 = np.load(\"bias1.npy\")\n",
    "# b2 = np.load(\"bias2.npy\")\n",
    "# b3 = np.load(\"bias3.npy\")\n",
    "# b4 = np.load(\"bias4.npy\")\n",
    "# b5 = np.load(\"bias5.npy\")"
   ]
  },
  {
   "cell_type": "code",
   "execution_count": 16,
   "metadata": {},
   "outputs": [],
   "source": [
    "costlist = []\n",
    "TrainingDataTarget = np.load(\"C:\\\\Users\\\\CastroPC\\\\Desktop\\\\TrainingDataTarget.npy\", allow_pickle=True)\n",
    "TrainingDataValue = np.load(\"C:\\\\Users\\\\CastroPC\\\\Desktop\\\\TrainingDataValue.npy\", allow_pickle=True)"
   ]
  },
  {
   "cell_type": "code",
   "execution_count": 15,
   "metadata": {},
   "outputs": [],
   "source": [
    "iterations = 10\n",
    "lr = 0.00001"
   ]
  },
  {
   "cell_type": "code",
   "execution_count": 21,
   "metadata": {},
   "outputs": [
    {
     "name": "stderr",
     "output_type": "stream",
     "text": [
      "\r",
      "  0%|          | 0/10 [00:00<?, ?it/s]"
     ]
    },
    {
     "name": "stdout",
     "output_type": "stream",
     "text": [
      "105566.15664832991\n"
     ]
    },
    {
     "name": "stderr",
     "output_type": "stream",
     "text": [
      "\r",
      " 10%|█         | 1/10 [00:35<05:15, 35.11s/it]"
     ]
    },
    {
     "name": "stdout",
     "output_type": "stream",
     "text": [
      "105193.48257378174\n"
     ]
    },
    {
     "name": "stderr",
     "output_type": "stream",
     "text": [
      "\r",
      " 20%|██        | 2/10 [01:19<05:03, 37.99s/it]"
     ]
    },
    {
     "name": "stdout",
     "output_type": "stream",
     "text": [
      "104813.80255619508\n"
     ]
    },
    {
     "name": "stderr",
     "output_type": "stream",
     "text": [
      "\r",
      " 30%|███       | 3/10 [01:58<04:28, 38.33s/it]"
     ]
    },
    {
     "name": "stdout",
     "output_type": "stream",
     "text": [
      "104426.49526938712\n"
     ]
    },
    {
     "name": "stderr",
     "output_type": "stream",
     "text": [
      "\r",
      " 40%|████      | 4/10 [02:42<03:58, 39.78s/it]"
     ]
    },
    {
     "name": "stdout",
     "output_type": "stream",
     "text": [
      "104030.89290224074\n"
     ]
    },
    {
     "name": "stderr",
     "output_type": "stream",
     "text": [
      "\r",
      " 50%|█████     | 5/10 [03:22<03:19, 39.89s/it]"
     ]
    },
    {
     "name": "stdout",
     "output_type": "stream",
     "text": [
      "103626.28540330738\n"
     ]
    },
    {
     "name": "stderr",
     "output_type": "stream",
     "text": [
      "\r",
      " 60%|██████    | 6/10 [04:03<02:41, 40.27s/it]"
     ]
    },
    {
     "name": "stdout",
     "output_type": "stream",
     "text": [
      "103211.93086095227\n"
     ]
    },
    {
     "name": "stderr",
     "output_type": "stream",
     "text": [
      "\r",
      " 70%|███████   | 7/10 [04:47<02:04, 41.34s/it]"
     ]
    },
    {
     "name": "stdout",
     "output_type": "stream",
     "text": [
      "102787.07560765724\n"
     ]
    },
    {
     "name": "stderr",
     "output_type": "stream",
     "text": [
      "\r",
      " 80%|████████  | 8/10 [05:24<01:19, 39.99s/it]"
     ]
    },
    {
     "name": "stdout",
     "output_type": "stream",
     "text": [
      "102350.9899457121\n"
     ]
    },
    {
     "name": "stderr",
     "output_type": "stream",
     "text": [
      "\r",
      " 90%|█████████ | 9/10 [06:00<00:38, 38.99s/it]"
     ]
    },
    {
     "name": "stdout",
     "output_type": "stream",
     "text": [
      "101903.02887281711\n"
     ]
    },
    {
     "name": "stderr",
     "output_type": "stream",
     "text": [
      "100%|██████████| 10/10 [06:38<00:00, 38.71s/it]\n"
     ]
    }
   ],
   "source": [
    "\n",
    "for i in tqdm(range(iterations)):\n",
    "\n",
    "    InputData1 = TrainingDataValue\n",
    "    TargetData1 = TrainingDataTarget\n",
    "\n",
    "    z1 = np.dot(InputData1, w1) + b1\n",
    "    a1 = tanH(z1)\n",
    "    #a1 - 42000 x 1200  \n",
    "\n",
    "    z2 = np.dot(a1, w2) + b2\n",
    "    a2 = tanH(z2)\n",
    "    #a2 - 42000 x 1000\n",
    "\n",
    "    z3 = np.dot(a2, w3) + b3\n",
    "    a3 = tanH(z3)\n",
    "    #a3 - 42000 x 1000\n",
    "\n",
    "    z4 = np.dot(a3, w4) + b4\n",
    "    a4 = tanH(z4)\n",
    "    #a4 - 42000 x 900\n",
    "\n",
    "    z5 = np.dot(a4, w5) + b5\n",
    "    a5 = tanH(z5)\n",
    "\n",
    "    z6 = np.dot(a5, w6) + b6\n",
    "    a6 = tanH(z6)\n",
    "\n",
    "    z7 = np.dot(a6, w7) + b7\n",
    "    a7 = tanH(z7)\n",
    "\n",
    "    z8 = np.dot(a7, w8) + b8\n",
    "    a8 = tanH(z8)\n",
    "\n",
    "    z9 = np.dot(a8, w9) + b9\n",
    "    a9 = tanH(z9)\n",
    "\n",
    "    z10 = np.dot(a9, w10) + b10\n",
    "    a10 = tanH(z10)\n",
    "\n",
    "    z11 = np.dot(a10, w11) + b11\n",
    "    a11 = tanH(z11)\n",
    "\n",
    "    z12 = np.dot(a11, w12) + b12\n",
    "    a12 = tanH(z12)\n",
    "\n",
    "    z13 = np.dot(a12, w13) + b13\n",
    "    a13 = tanH(z13)\n",
    "\n",
    "    z14 = np.dot(a13, w14) + b14\n",
    "    a14 = softmax_broadcast(z14)\n",
    "\n",
    "\n",
    "    cost = cross_ent(TargetData1, a14)\n",
    "    costlist.append(cost)\n",
    "    print(cost)\n",
    "\n",
    "    #backprop\n",
    "    dcda14 = cross_ent_d(TargetData1, a14)\n",
    "    da14dz14 = softmax_d(z14)\n",
    "    dz14dw14 = a13\n",
    "\n",
    "    dw14 = dcda14 * da14dz14\n",
    "    db14 = np.sum(dw14, axis=0, keepdims=True)\n",
    "    w14 = w14 - lr * np.dot(dz14dw14.T, dw14)\n",
    "    b14 = b14 - lr * db14\n",
    "\n",
    "\n",
    "    dz14da13 = w14\n",
    "    da13dz13 = dtanH(z13)\n",
    "    dz13dw13 = a12\n",
    "\n",
    "    dw13 = np.dot(dw14, dz14da13.T) * da13dz13\n",
    "    db13 = np.sum(dw13, axis=0, keepdims=True)\n",
    "    w13 = w13 - lr * np.dot(dz13dw13.T, dw13)\n",
    "    b13 = b13 - lr * db13\n",
    "\n",
    "\n",
    "    dz13da12 = w13\n",
    "    da12dz12 = dtanH(z12)\n",
    "    dz12dw12 = a11\n",
    "\n",
    "    dw12 = np.dot(dw13, dz13da12.T) * da12dz12\n",
    "    db12 = np.sum(dw12, axis=0, keepdims=True)\n",
    "    w12 = w12 - lr * np.dot(dz12dw12.T, dw12)\n",
    "    b12 = b12 - lr * db12\n",
    "\n",
    "\n",
    "    dz12da11 = w12\n",
    "    da11dz11 = dtanH(z11)\n",
    "    dz11dw11 = a10\n",
    "\n",
    "    dw11 = np.dot(dw12, dz12da11.T) * da11dz11\n",
    "    db11 = np.sum(dw11, axis=0, keepdims=True)\n",
    "    w11 = w11 - lr * np.dot(dz11dw11.T, dw11)\n",
    "    b11 = b11 - lr * db11\n",
    "\n",
    "\n",
    "    dz11da10 = w11\n",
    "    da10dz10 = dtanH(z10)\n",
    "    dz10dw10 = a9\n",
    "\n",
    "    dw10 = np.dot(dw11, dz11da10.T) * da10dz10\n",
    "    db10 = np.sum(dw10, axis=0, keepdims=True)\n",
    "    w10 = w10 - lr * np.dot(dz10dw10.T, dw10)\n",
    "    b10 = b10 - lr * db10\n",
    "\n",
    "\n",
    "    dz10da9 = w10\n",
    "    da9dz9 = dtanH(z9)\n",
    "    dz9dw9 = a8\n",
    "\n",
    "    dw9 = np.dot(dw10, dz10da9.T) * da9dz9\n",
    "    db9 = np.sum(dw9, axis=0, keepdims=True)\n",
    "    w9 = w9 - lr * np.dot(dz9dw9.T, dw9)\n",
    "    b9 = b9 - lr * db9\n",
    "\n",
    "\n",
    "    dz9da8 = w9\n",
    "    da8dz8 = dtanH(z8)\n",
    "    dz8dw8 = a7\n",
    "\n",
    "    dw8 = np.dot(dw9, dz9da8.T) * da8dz8\n",
    "    db8 = np.sum(dw8, axis=0, keepdims=True)\n",
    "    w8 = w8 - lr * np.dot(dz8dw8.T, dw8)\n",
    "    b8 = b8 - lr * db8\n",
    "\n",
    "\n",
    "    dz8da7 = w8\n",
    "    da7dz7 = dtanH(z7)\n",
    "    dz7dw7 = a6\n",
    "\n",
    "    dw7 = np.dot(dw8, dz8da7.T) * da7dz7\n",
    "    db7 = np.sum(dw7, axis=0, keepdims=True)\n",
    "    w7 = w7 - lr * np.dot(dz7dw7.T, dw7)\n",
    "    b7 = b7 - lr * db7\n",
    "\n",
    "\n",
    "    dz7da6 = w7\n",
    "    da6dz6 = dtanH(z6)\n",
    "    dz6dw6 = a5\n",
    "\n",
    "    dw6 = np.dot(dw7, dz7da6.T) * da6dz6\n",
    "    db6 = np.sum(dw6, axis=0, keepdims=True)\n",
    "    w6 = w6 - lr * np.dot(dz6dw6.T, dw6)\n",
    "    b6 = b6 - lr * db6\n",
    "\n",
    "    dz6da5 = w6\n",
    "    da5dz5 = dtanH(z5)\n",
    "    dz5dw5 = a4\n",
    "\n",
    "    dw5 = np.dot(dw6, dz6da5.T) * da5dz5\n",
    "    db5 = np.sum(dw5, axis=0, keepdims=True)\n",
    "    w5 = w5 - lr * np.dot(dz5dw5.T, dw5)\n",
    "    b5 = b5 - lr * db5\n",
    "\n",
    "    dz5da4 = w5\n",
    "    da4dz4 = dtanH(z4)\n",
    "    dz4dw4 = a3\n",
    "\n",
    "    dw4 = np.dot(dw5, dz5da4.T) * da4dz4\n",
    "    db4 = np.sum(dw4, axis=0, keepdims=True)\n",
    "    w4 = w4 - lr * np.dot(dz4dw4.T, dw4)\n",
    "    b4 = b4 - lr * db4\n",
    "\n",
    "    dz4da3 = w4\n",
    "    da3dz3 = dtanH(z3)\n",
    "    dz3dw3 = a2\n",
    "\n",
    "    dw3 = np.dot(dw4, dz4da3.T) * da3dz3\n",
    "    db3 = np.sum(dw3, axis=0, keepdims=True)\n",
    "    w3 = w3 - lr * np.dot(dz3dw3.T, dw3)\n",
    "    b3 = b3 - lr * db3\n",
    "\n",
    "    dz3da2 = w3\n",
    "    da2dz2 = dtanH(z2)\n",
    "    dz2dw2 = a1\n",
    "\n",
    "    dw2 = np.dot(dw3, dz3da2.T) * da2dz2\n",
    "    db2 = np.sum(dw2, axis=0, keepdims=True)\n",
    "    w2 = w2 - lr * np.dot(dz2dw2.T, dw2)\n",
    "    b2 = b2 - lr * db2\n",
    "\n",
    "    dz2da1 = w2\n",
    "    da1dz1 = dtanH(z1)\n",
    "    dz1dw1 = InputData1\n",
    "\n",
    "    dw1 = np.dot(dw2, dz2da1.T) * da1dz1\n",
    "    db1 = np.sum(dw1, axis=0, keepdims=True)\n",
    "    w1 = w1 - lr * np.dot(dz1dw1.T, dw1)\n",
    "    b1 = b1 - lr * db1"
   ]
  },
  {
   "cell_type": "code",
   "execution_count": 22,
   "metadata": {},
   "outputs": [
    {
     "name": "stdout",
     "output_type": "stream",
     "text": [
      "[368390.21127202787, 452207.5834364206, 373977.57105673675, 304576.8371453275, 257442.9990939869, 199060.025666504, 163203.16941092865, 154518.39249644894, 136625.60859850096, 123591.03522934965, 116968.25494505954, 113296.71772904308, 110653.16663597635, 108922.08677925325, 107952.43082771999, 107396.31803163256, 107003.55993368861, 106648.07857763731, 106292.76358830386, 105932.40032061514, 105566.15664832991, 105193.48257378174, 104813.80255619508, 104426.49526938712, 104030.89290224074, 103626.28540330738, 103211.93086095227, 102787.07560765724, 102350.9899457121, 101903.02887281711]\n"
     ]
    },
    {
     "data": {
      "image/png": "[encoded data removed]",
      "text/plain": [
       "<Figure size 432x288 with 1 Axes>"
      ]
     },
     "metadata": {
      "needs_background": "light"
     },
     "output_type": "display_data"
    }
   ],
   "source": [
    "print(costlist)\n",
    "plt.plot(costlist)\n",
    "plt.show()"
   ]
  },
  {
   "cell_type": "code",
   "execution_count": null,
   "metadata": {},
   "outputs": [],
   "source": [
    "np.save(\"weights1\", w1)\n",
    "np.save(\"weights2\", w2)\n",
    "np.save(\"weights3\", w3)\n",
    "np.save(\"weights4\", w4)\n",
    "np.save(\"weights5\", w5)\n",
    "np.save(\"weights6\", w6)\n",
    "np.save(\"weights7\", w7)\n",
    "np.save(\"weights8\", w8)\n",
    "np.save(\"weights9\", w9)\n",
    "np.save(\"weights10\", w10)\n",
    "np.save(\"weights11\", w11)\n",
    "np.save(\"weights12\", w12)\n",
    "np.save(\"weights13\", w13)\n",
    "np.save(\"weights14\", w14)\n",
    "\n",
    "np.save(\"bias1\", b1)\n",
    "np.save(\"bias2\", b2)\n",
    "np.save(\"bias3\", b3)\n",
    "np.save(\"bias4\", b4)\n",
    "np.save(\"bias5\", b5)\n",
    "np.save(\"bias6\", b6)\n",
    "np.save(\"bias7\", b7)\n",
    "np.save(\"bias8\", b8)\n",
    "np.save(\"bias9\", b9)\n",
    "np.save(\"bias10\", b10)\n",
    "np.save(\"bias11\", b11)\n",
    "np.save(\"bias12\", b12)\n",
    "np.save(\"bias13\", b13)\n",
    "np.save(\"bias14\", b14)"
   ]
  },
  {
   "cell_type": "code",
   "execution_count": null,
   "metadata": {},
   "outputs": [],
   "source": []
  }
 ],
 "metadata": {
  "kernelspec": {
   "display_name": "Python 3",
   "language": "python",
   "name": "python3"
  },
  "language_info": {
   "codemirror_mode": {
    "name": "ipython",
    "version": 3
   },
   "file_extension": ".py",
   "mimetype": "text/x-python",
   "name": "python",
   "nbconvert_exporter": "python",
   "pygments_lexer": "ipython3",
   "version": "3.7.1"
  }
 },
 "nbformat": 4,
 "nbformat_minor": 2
}
